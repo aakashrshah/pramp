{
 "cells": [
  {
   "cell_type": "code",
   "execution_count": 19,
   "metadata": {},
   "outputs": [],
   "source": [
    "import heapq"
   ]
  },
  {
   "cell_type": "code",
   "execution_count": 24,
   "metadata": {},
   "outputs": [],
   "source": [
    "def sort_k_messed_array(arr, k):\n",
    "  n = len(arr)\n",
    "  heap = []\n",
    "  for i in range(0,k+1):\n",
    "    heapq.heappush(heap, arr[i])\n",
    "    \n",
    "  for i in range(k+1, n):\n",
    "    arr[n-k-1] = heapq.heappop(heap)\n",
    "    heapq.heappush(heap, arr[i])\n",
    "    \n",
    "  for i in range(0, k+1):\n",
    "    arr[n-k-1 + i] = heapq.heappop(heap)\n",
    "\n",
    "  return arr"
   ]
  },
  {
   "cell_type": "code",
   "execution_count": 25,
   "metadata": {},
   "outputs": [
    {
     "name": "stdout",
     "output_type": "stream",
     "text": [
      "[1, 4, 5, 2, 3, 7, 8, 8, 9, 10]\n"
     ]
    }
   ],
   "source": [
    "arr = [1, 4, 5, 2, 3, 7, 8, 6, 10, 9]\n",
    "k = 2\n",
    "result = sort_k_messed_array(arr, k)\n",
    "print(result)"
   ]
  },
  {
   "cell_type": "code",
   "execution_count": null,
   "metadata": {},
   "outputs": [],
   "source": []
  }
 ],
 "metadata": {
  "kernelspec": {
   "display_name": "Python 3",
   "language": "python",
   "name": "python3"
  },
  "language_info": {
   "codemirror_mode": {
    "name": "ipython",
    "version": 3
   },
   "file_extension": ".py",
   "mimetype": "text/x-python",
   "name": "python",
   "nbconvert_exporter": "python",
   "pygments_lexer": "ipython3",
   "version": "3.6.5"
  }
 },
 "nbformat": 4,
 "nbformat_minor": 2
}
